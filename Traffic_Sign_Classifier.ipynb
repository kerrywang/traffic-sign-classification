{
 "cells": [
  {
   "cell_type": "markdown",
   "metadata": {},
   "source": [
    "# Self-Driving Car Engineer Nanodegree\n",
    "\n",
    "## Deep Learning\n",
    "\n",
    "## Project: Build a Traffic Sign Recognition Classifier\n",
    "\n",
    "In this notebook, a template is provided for you to implement your functionality in stages, which is required to successfully complete this project. If additional code is required that cannot be included in the notebook, be sure that the Python code is successfully imported and included in your submission if necessary. \n",
    "\n",
    "> **Note**: Once you have completed all of the code implementations, you need to finalize your work by exporting the iPython Notebook as an HTML document. Before exporting the notebook to html, all of the code cells need to have been run so that reviewers can see the final implementation and output. You can then export the notebook by using the menu above and navigating to  \\n\",\n",
    "    \"**File -> Download as -> HTML (.html)**. Include the finished document along with this notebook as your submission. \n",
    "\n",
    "In addition to implementing code, there is a writeup to complete. The writeup should be completed in a separate file, which can be either a markdown file or a pdf document. There is a [write up template](https://github.com/udacity/CarND-Traffic-Sign-Classifier-Project/blob/master/writeup_template.md) that can be used to guide the writing process. Completing the code template and writeup template will cover all of the [rubric points](https://review.udacity.com/#!/rubrics/481/view) for this project.\n",
    "\n",
    "The [rubric](https://review.udacity.com/#!/rubrics/481/view) contains \"Stand Out Suggestions\" for enhancing the project beyond the minimum requirements. The stand out suggestions are optional. If you decide to pursue the \"stand out suggestions\", you can include the code in this Ipython notebook and also discuss the results in the writeup file.\n",
    "\n",
    "\n",
    ">**Note:** Code and Markdown cells can be executed using the **Shift + Enter** keyboard shortcut. In addition, Markdown cells can be edited by typically double-clicking the cell to enter edit mode."
   ]
  },
  {
   "cell_type": "markdown",
   "metadata": {},
   "source": [
    "---\n",
    "## Step 0: Load The Data"
   ]
  },
  {
   "cell_type": "code",
   "execution_count": 1,
   "metadata": {},
   "outputs": [],
   "source": [
    "# Load pickled data\n",
    "import pickle\n",
    "import utility as util\n",
    "import numpy as np\n",
    "\n",
    "# TODO: Fill this in based on where you saved the training and testing data\n",
    "\n",
    "training_file = util.get_train_data()\n",
    "validation_file=util.get_val_data()\n",
    "testing_file = util.get_test_data()\n",
    "\n",
    "\n",
    "with open(training_file, mode='rb') as f:\n",
    "    train = pickle.load(f)\n",
    "with open(validation_file, mode='rb') as f:\n",
    "    valid = pickle.load(f)\n",
    "with open(testing_file, mode='rb') as f:\n",
    "    test = pickle.load(f)\n",
    "    \n",
    "X_train, y_train = train['features'], train['labels']\n",
    "X_valid, y_valid = valid['features'], valid['labels']\n",
    "X_test, y_test = test['features'], test['labels']"
   ]
  },
  {
   "cell_type": "markdown",
   "metadata": {},
   "source": [
    "---\n",
    "\n",
    "## Step 1: Dataset Summary & Exploration\n",
    "\n",
    "The pickled data is a dictionary with 4 key/value pairs:\n",
    "\n",
    "- `'features'` is a 4D array containing raw pixel data of the traffic sign images, (num examples, width, height, channels).\n",
    "- `'labels'` is a 1D array containing the label/class id of the traffic sign. The file `signnames.csv` contains id -> name mappings for each id.\n",
    "- `'sizes'` is a list containing tuples, (width, height) representing the original width and height the image.\n",
    "- `'coords'` is a list containing tuples, (x1, y1, x2, y2) representing coordinates of a bounding box around the sign in the image. **THESE COORDINATES ASSUME THE ORIGINAL IMAGE. THE PICKLED DATA CONTAINS RESIZED VERSIONS (32 by 32) OF THESE IMAGES**\n",
    "\n",
    "Complete the basic data summary below. Use python, numpy and/or pandas methods to calculate the data summary rather than hard coding the results. For example, the [pandas shape method](http://pandas.pydata.org/pandas-docs/stable/generated/pandas.DataFrame.shape.html) might be useful for calculating some of the summary results. "
   ]
  },
  {
   "cell_type": "markdown",
   "metadata": {},
   "source": [
    "### Provide a Basic Summary of the Data Set Using Python, Numpy and/or Pandas"
   ]
  },
  {
   "cell_type": "code",
   "execution_count": 2,
   "metadata": {},
   "outputs": [
    {
     "name": "stdout",
     "output_type": "stream",
     "text": [
      "Number of training examples = 34799\n",
      "Number of validation examples = 4410\n",
      "Number of testing examples = 12630\n",
      "Image data shape = (32, 32, 3)\n",
      "Number of classes = 43\n"
     ]
    }
   ],
   "source": [
    "### Data exploration visualization code goes here.\n",
    "### Feel free to use as many code cells as needed.\n",
    "import matplotlib.pyplot as plt\n",
    "import cv2\n",
    "# Visualizations will be shown in the notebook.\n",
    "%matplotlib inline\n",
    "\n",
    "### Replace each question mark with the appropriate value. \n",
    "### Use python, pandas or numpy methods rather than hard coding the results\n",
    "\n",
    "# TODO: Number of training examples\n",
    "n_train = X_train.shape[0]\n",
    "\n",
    "# TODO: Number of validation examples\n",
    "n_validation = X_valid.shape[0]\n",
    "\n",
    "# TODO: Number of testing examples.\n",
    "n_test = X_test.shape[0]\n",
    "\n",
    "# TODO: What's the shape of an traffic sign image?\n",
    "image_shape = X_train[0].shape\n",
    "\n",
    "# TODO: How many unique classes/labels there are in the dataset.\n",
    "n_classes = len(np.unique(y_train))\n",
    "\n",
    "print(\"Number of training examples =\", n_train)\n",
    "print(\"Number of validation examples =\", n_validation)\n",
    "print(\"Number of testing examples =\", n_test)\n",
    "print(\"Image data shape =\", image_shape)\n",
    "print(\"Number of classes =\", n_classes)"
   ]
  },
  {
   "cell_type": "code",
   "execution_count": 3,
   "metadata": {},
   "outputs": [
    {
     "data": {
      "image/png": "[encoded data removed]",
      "text/plain": [
       "<matplotlib.figure.Figure at 0x7f0d1863d828>"
      ]
     },
     "metadata": {
      "needs_background": "light"
     },
     "output_type": "display_data"
    },
    {
     "data": {
      "text/plain": [
       "<matplotlib.figure.Figure at 0x7f0d1863d860>"
      ]
     },
     "metadata": {},
     "output_type": "display_data"
    }
   ],
   "source": [
    "import collections\n",
    "\n",
    "collected = collections.Counter(y_train)\n",
    "plt.bar(range(n_classes), [collected[i] for i in range(n_classes)])\n",
    "\n",
    "plt.title(\"data overview\")\n",
    "plt.xlabel(\"class code\")\n",
    "plt.ylabel(\"count\")\n",
    "plt.show()\n",
    "\n",
    "plt.savefig(\"output/overview.png\")"
   ]
  },
  {
   "cell_type": "markdown",
   "metadata": {},
   "source": [
    "### Include an exploratory visualization of the dataset"
   ]
  },
  {
   "cell_type": "markdown",
   "metadata": {},
   "source": [
    "Visualize the German Traffic Signs Dataset using the pickled file(s). This is open ended, suggestions include: plotting traffic sign images, plotting the count of each sign, etc. \n",
    "\n",
    "The [Matplotlib](http://matplotlib.org/) [examples](http://matplotlib.org/examples/index.html) and [gallery](http://matplotlib.org/gallery.html) pages are a great resource for doing visualizations in Python.\n",
    "\n",
    "**NOTE:** It's recommended you start with something simple first. If you wish to do more, come back to it after you've completed the rest of the sections. It can be interesting to look at the distribution of classes in the training, validation and test set. Is the distribution the same? Are there more examples of some classes than others?"
   ]
  },
  {
   "cell_type": "code",
   "execution_count": null,
   "metadata": {},
   "outputs": [],
   "source": []
  },
  {
   "cell_type": "code",
   "execution_count": null,
   "metadata": {},
   "outputs": [],
   "source": []
  },
  {
   "cell_type": "markdown",
   "metadata": {},
   "source": [
    "----\n",
    "\n",
    "## Step 2: Design and Test a Model Architecture\n",
    "\n",
    "Design and implement a deep learning model that learns to recognize traffic signs. Train and test your model on the [German Traffic Sign Dataset](http://benchmark.ini.rub.de/?section=gtsrb&subsection=dataset).\n",
    "\n",
    "The LeNet-5 implementation shown in the [classroom](https://classroom.udacity.com/nanodegrees/nd013/parts/fbf77062-5703-404e-b60c-95b78b2f3f9e/modules/6df7ae49-c61c-4bb2-a23e-6527e69209ec/lessons/601ae704-1035-4287-8b11-e2c2716217ad/concepts/d4aca031-508f-4e0b-b493-e7b706120f81) at the end of the CNN lesson is a solid starting point. You'll have to change the number of classes and possibly the preprocessing, but aside from that it's plug and play! \n",
    "\n",
    "With the LeNet-5 solution from the lecture, you should expect a validation set accuracy of about 0.89. To meet specifications, the validation set accuracy will need to be at least 0.93. It is possible to get an even higher accuracy, but 0.93 is the minimum for a successful project submission. \n",
    "\n",
    "There are various aspects to consider when thinking about this problem:\n",
    "\n",
    "- Neural network architecture (is the network over or underfitting?)\n",
    "- Play around preprocessing techniques (normalization, rgb to grayscale, etc)\n",
    "- Number of examples per label (some have more than others).\n",
    "- Generate fake data.\n",
    "\n",
    "Here is an example of a [published baseline model on this problem](http://yann.lecun.com/exdb/publis/pdf/sermanet-ijcnn-11.pdf). It's not required to be familiar with the approach used in the paper but, it's good practice to try to read papers like these."
   ]
  },
  {
   "cell_type": "markdown",
   "metadata": {},
   "source": [
    "### Pre-process the Data Set (normalization, grayscale, etc.)"
   ]
  },
  {
   "cell_type": "markdown",
   "metadata": {},
   "source": [
    "Minimally, the image data should be normalized so that the data has mean zero and equal variance. For image data, `(pixel - 128)/ 128` is a quick way to approximately normalize the data and can be used in this project. \n",
    "\n",
    "Other pre-processing steps are optional. You can try different techniques to see if it improves performance. \n",
    "\n",
    "Use the code cell (or multiple code cells, if necessary) to implement the first step of your project."
   ]
  },
  {
   "cell_type": "code",
   "execution_count": 4,
   "metadata": {},
   "outputs": [],
   "source": [
    "### Preprocess the data here. It is required to normalize the data. Other preprocessing steps could include \n",
    "### converting to grayscale, etc.\n",
    "### Feel free to use as many code cells as needed.\\\n",
    "import sklearn\n",
    "from sklearn import preprocessing"
   ]
  },
  {
   "cell_type": "code",
   "execution_count": 5,
   "metadata": {},
   "outputs": [],
   "source": [
    "def unite_format(images):\n",
    "    # change the image to gray scale\n",
    "    gray_imgs = []\n",
    "    for image in images:\n",
    "        gray_imgs.append(cv2.cvtColor(image, cv2.COLOR_BGR2GRAY))\n",
    "    gray_imgs = np.array(gray_imgs)\n",
    "    return gray_imgs"
   ]
  },
  {
   "cell_type": "code",
   "execution_count": null,
   "metadata": {},
   "outputs": [],
   "source": []
  },
  {
   "cell_type": "code",
   "execution_count": 6,
   "metadata": {},
   "outputs": [
    {
     "data": {
      "image/png": "[encoded data removed]",
      "text/plain": [
       "<matplotlib.figure.Figure at 0x7f0cf1f70b70>"
      ]
     },
     "metadata": {
      "needs_background": "light"
     },
     "output_type": "display_data"
    }
   ],
   "source": [
    "X_train_gray, X_valid_gray, X_test_gray = unite_format(X_train), unite_format(X_valid), unite_format(X_test)\n",
    "\n",
    "fig, ax = plt.subplots(1, 2)\n",
    "ax[0].set_title(\"gray\")\n",
    "ax[0].imshow(X_train_gray[10000], cmap='gray')\n",
    "ax[1].set_title(\"original\")\n",
    "ax[1].imshow(X_train[10000], cmap='gray')\n",
    "fig.savefig(\"output/gray_out_image.png\")"
   ]
  },
  {
   "cell_type": "code",
   "execution_count": 7,
   "metadata": {},
   "outputs": [
    {
     "name": "stdout",
     "output_type": "stream",
     "text": [
      "(34799, 32, 32)\n",
      "(4410, 32, 32)\n",
      "(12630, 32, 32)\n"
     ]
    }
   ],
   "source": [
    "print (X_train_gray.shape)\n",
    "print (X_valid_gray.shape)\n",
    "print (X_test_gray.shape)"
   ]
  },
  {
   "cell_type": "code",
   "execution_count": 8,
   "metadata": {},
   "outputs": [
    {
     "name": "stderr",
     "output_type": "stream",
     "text": [
      "/opt/conda/lib/python3.6/site-packages/sklearn/utils/validation.py:475: DataConversionWarning: Data with input dtype uint8 was converted to float64 by StandardScaler.\n",
      "  warnings.warn(msg, DataConversionWarning)\n"
     ]
    }
   ],
   "source": [
    "standard_normalizer = sklearn.preprocessing.StandardScaler()\n",
    "\n",
    "standard_normalizer.fit(X_train_gray.reshape(n_train, -1))\n",
    "\n",
    "def normalization(images, scaler):\n",
    "    n_sample = images.shape[0]\n",
    "    new_images = scaler.transform(images.reshape(n_sample, -1)).reshape(n_sample, 32, 32)\n",
    "    new_images = np.expand_dims(new_images, 3)\n",
    "    return new_images\n",
    "    \n",
    "# subtract mean and make standard variance\n",
    "X_train_norm = normalization(X_train_gray, standard_normalizer)\n",
    "X_valid_norm = normalization(X_valid_gray, standard_normalizer)\n",
    "X_test_norm = normalization(X_test_gray, standard_normalizer)"
   ]
  },
  {
   "cell_type": "code",
   "execution_count": 9,
   "metadata": {},
   "outputs": [],
   "source": [
    "lb = preprocessing.LabelBinarizer()\n",
    "y_train_norm = lb.fit_transform(y_train.reshape(-1, 1))\n",
    "y_valid_norm = lb.transform(y_valid.reshape(-1, 1))\n",
    "y_test_nomr = lb.transform(y_test.reshape(-1, 1))"
   ]
  },
  {
   "cell_type": "code",
   "execution_count": 10,
   "metadata": {},
   "outputs": [],
   "source": [
    "y_test_norm = lb.transform(y_test.reshape(-1, 1))"
   ]
  },
  {
   "cell_type": "markdown",
   "metadata": {},
   "source": [
    "### Model Architecture"
   ]
  },
  {
   "cell_type": "code",
   "execution_count": 11,
   "metadata": {},
   "outputs": [
    {
     "name": "stderr",
     "output_type": "stream",
     "text": [
      "Using TensorFlow backend.\n"
     ]
    }
   ],
   "source": [
    "import keras\n",
    "from keras.models import Sequential\n",
    "from keras.layers import Dense,Activation, Dropout, Flatten, Conv2D, MaxPooling2D\n",
    "from keras.layers.normalization import BatchNormalization"
   ]
  },
  {
   "cell_type": "code",
   "execution_count": 12,
   "metadata": {},
   "outputs": [
    {
     "name": "stdout",
     "output_type": "stream",
     "text": [
      "(34799, 32, 32, 1)\n"
     ]
    }
   ],
   "source": [
    "### Define your architecture here.\n",
    "### Feel free to use as many code cells as needed\n",
    "print (X_train_norm.shape)\n",
    "batch_size = 32\n",
    "epochs = 10\n",
    "def alex_net():\n",
    "    model = Sequential()\n",
    "    model.add(Conv2D(32, (3, 3), padding='same',\n",
    "                 input_shape=X_train_norm.shape[1:]))\n",
    "    model.add(Activation('relu'))\n",
    "    model.add(Conv2D(32, (3, 3)))\n",
    "    model.add(Activation('relu'))\n",
    "    model.add(MaxPooling2D(pool_size=(2, 2)))\n",
    "    model.add(Dropout(0.25))\n",
    "\n",
    "    model.add(Conv2D(64, (3, 3), padding='same'))\n",
    "    model.add(Activation('relu'))\n",
    "    model.add(Conv2D(64, (3, 3)))\n",
    "    model.add(Activation('relu'))\n",
    "    model.add(MaxPooling2D(pool_size=(2, 2)))\n",
    "    model.add(Dropout(0.25))\n",
    "\n",
    "    model.add(Flatten())\n",
    "    model.add(Dense(512))\n",
    "    model.add(Activation('relu'))\n",
    "    model.add(Dropout(0.5))\n",
    "    model.add(Dense(n_classes))\n",
    "    model.add(Activation('softmax'))\n",
    "    return model\n"
   ]
  },
  {
   "cell_type": "markdown",
   "metadata": {},
   "source": [
    "### Train, Validate and Test the Model"
   ]
  },
  {
   "cell_type": "markdown",
   "metadata": {},
   "source": [
    "A validation set can be used to assess how well the model is performing. A low accuracy on the training and validation\n",
    "sets imply underfitting. A high accuracy on the training set but low accuracy on the validation set implies overfitting."
   ]
  },
  {
   "cell_type": "code",
   "execution_count": 18,
   "metadata": {},
   "outputs": [
    {
     "name": "stdout",
     "output_type": "stream",
     "text": [
      "Train on 34799 samples, validate on 4410 samples\n",
      "Epoch 1/10\n",
      "34799/34799 [==============================] - 16s 464us/step - loss: 2.5946 - acc: 0.3126 - val_loss: 1.2931 - val_acc: 0.6510\n",
      "Epoch 2/10\n",
      "34799/34799 [==============================] - 16s 455us/step - loss: 0.9099 - acc: 0.7341 - val_loss: 0.5492 - val_acc: 0.8494\n",
      "Epoch 3/10\n",
      "34799/34799 [==============================] - 16s 456us/step - loss: 0.4383 - acc: 0.8680 - val_loss: 0.3712 - val_acc: 0.8932\n",
      "Epoch 4/10\n",
      "34799/34799 [==============================] - 16s 455us/step - loss: 0.2782 - acc: 0.9159 - val_loss: 0.3298 - val_acc: 0.9018\n",
      "Epoch 5/10\n",
      "34799/34799 [==============================] - 16s 457us/step - loss: 0.1959 - acc: 0.9419 - val_loss: 0.2514 - val_acc: 0.9322\n",
      "Epoch 6/10\n",
      "34799/34799 [==============================] - 16s 456us/step - loss: 0.1462 - acc: 0.9575 - val_loss: 0.2344 - val_acc: 0.9404\n",
      "Epoch 7/10\n",
      "34799/34799 [==============================] - 16s 457us/step - loss: 0.1184 - acc: 0.9662 - val_loss: 0.1891 - val_acc: 0.9519\n",
      "Epoch 8/10\n",
      "34799/34799 [==============================] - 16s 455us/step - loss: 0.0989 - acc: 0.9717 - val_loss: 0.2205 - val_acc: 0.9467\n",
      "Epoch 9/10\n",
      "34799/34799 [==============================] - 16s 465us/step - loss: 0.0843 - acc: 0.9755 - val_loss: 0.2239 - val_acc: 0.9460\n",
      "Epoch 10/10\n",
      "34799/34799 [==============================] - 16s 457us/step - loss: 0.0741 - acc: 0.9790 - val_loss: 0.1917 - val_acc: 0.9628\n"
     ]
    }
   ],
   "source": [
    "### Train your model here.\n",
    "def train(load_model=False):\n",
    "    model = alex_net()\n",
    "    \n",
    "    if load_model:\n",
    "        return load_model(\"model.h5\")\n",
    "    \n",
    "    opt = keras.optimizers.rmsprop(lr=0.0001, decay=1e-6)\n",
    "    model.compile(loss='categorical_crossentropy', optimizer=opt, metrics=['accuracy'])\n",
    "\n",
    "    model.fit(X_train_norm, y_train_norm, batch_size=batch_size, epochs=epochs, validation_data=(X_valid_norm, y_valid_norm), shuffle=True)\n",
    "    model.save(\"model.h5\")\n",
    "    return model\n",
    "\n",
    "model = train()\n",
    "\n",
    "### Calculate and report the accuracy on the training and validation set.\n",
    "### Once a final model architecture is selected, \n",
    "### the accuracy on the test set should be calculated and reported as well.\n",
    "### Feel free to use as many code cells as needed."
   ]
  },
  {
   "cell_type": "code",
   "execution_count": 19,
   "metadata": {},
   "outputs": [
    {
     "name": "stdout",
     "output_type": "stream",
     "text": [
      "             precision    recall  f1-score   support\n",
      "\n",
      "          0       1.00      0.97      0.98        60\n",
      "          1       0.88      0.98      0.93       720\n",
      "          2       0.92      0.99      0.95       750\n",
      "          3       0.98      0.93      0.95       450\n",
      "          4       0.96      0.98      0.97       660\n",
      "          5       0.92      0.90      0.91       630\n",
      "          6       1.00      0.79      0.88       150\n",
      "          7       0.97      0.88      0.92       450\n",
      "          8       0.92      0.98      0.95       450\n",
      "          9       0.94      1.00      0.97       480\n",
      "         10       0.98      0.99      0.99       660\n",
      "         11       0.97      0.97      0.97       420\n",
      "         12       0.92      0.96      0.94       690\n",
      "         13       0.99      0.99      0.99       720\n",
      "         14       0.98      0.99      0.99       270\n",
      "         15       0.95      1.00      0.97       210\n",
      "         16       0.98      0.99      0.98       150\n",
      "         17       0.99      0.96      0.98       360\n",
      "         18       0.90      0.81      0.85       390\n",
      "         19       0.78      0.97      0.87        60\n",
      "         20       0.93      0.98      0.95        90\n",
      "         21       0.93      0.60      0.73        90\n",
      "         22       0.98      0.97      0.97       120\n",
      "         23       0.94      0.88      0.91       150\n",
      "         24       0.90      0.72      0.80        90\n",
      "         25       0.94      0.97      0.96       480\n",
      "         26       0.93      0.82      0.87       180\n",
      "         27       0.65      0.50      0.57        60\n",
      "         28       0.98      0.99      0.99       150\n",
      "         29       0.70      0.98      0.81        90\n",
      "         30       0.95      0.63      0.76       150\n",
      "         31       0.89      0.98      0.93       270\n",
      "         32       0.94      1.00      0.97        60\n",
      "         33       0.94      0.99      0.96       210\n",
      "         34       0.98      0.99      0.99       120\n",
      "         35       0.99      0.98      0.98       390\n",
      "         36       0.97      0.97      0.97       120\n",
      "         37       0.98      0.85      0.91        60\n",
      "         38       0.98      0.95      0.97       690\n",
      "         39       0.93      0.98      0.95        90\n",
      "         40       0.95      0.82      0.88        90\n",
      "         41       0.82      0.68      0.75        60\n",
      "         42       0.98      0.89      0.93        90\n",
      "\n",
      "avg / total       0.95      0.94      0.94     12630\n",
      "\n"
     ]
    }
   ],
   "source": [
    "### Run the predictions here and use the model to output the prediction for each image.\n",
    "### Make sure to pre-process the images with the same pre-processing pipeline used earlier.\n",
    "### Feel free to use as many code cells as needed.\n",
    "import sklearn.metrics\n",
    "y_pred = model.predict(X_test_norm)\n",
    "print (sklearn.metrics.classification_report(np.argmax(y_test_norm, axis=1), np.argmax(y_pred, axis=1)))"
   ]
  },
  {
   "cell_type": "markdown",
   "metadata": {},
   "source": [
    "---\n",
    "\n",
    "## Step 3: Test a Model on New Images\n",
    "\n",
    "To give yourself more insight into how your model is working, download at least five pictures of German traffic signs from the web and use your model to predict the traffic sign type.\n",
    "\n",
    "You may find `signnames.csv` useful as it contains mappings from the class id (integer) to the actual sign name."
   ]
  },
  {
   "cell_type": "markdown",
   "metadata": {},
   "source": [
    "### Load and Output the Images"
   ]
  },
  {
   "cell_type": "code",
   "execution_count": 22,
   "metadata": {},
   "outputs": [],
   "source": [
    "### Load the images and plot them here.\n",
    "### Feel free to use as many code cells as needed.\n",
    "import os\n",
    "import json\n",
    "import math\n",
    "test_dir = \"test_data\"\n",
    "label_json = \"test_data/label.json\""
   ]
  },
  {
   "cell_type": "code",
   "execution_count": 32,
   "metadata": {},
   "outputs": [
    {
     "name": "stdout",
     "output_type": "stream",
     "text": [
      "{'traffic-signal.png': 26, 'yield.png': 13, 'stop.png': 14, 'dangerous-curve-left.png': 19, 'stop1.png': 14, 'no-passing.png': 9, 'caution.jpg': 18, 'work-ahead.png': 25}\n",
      "8\n"
     ]
    },
    {
     "name": "stderr",
     "output_type": "stream",
     "text": [
      "/opt/conda/lib/python3.6/site-packages/sklearn/utils/validation.py:475: DataConversionWarning: Data with input dtype uint8 was converted to float64 by StandardScaler.\n",
      "  warnings.warn(msg, DataConversionWarning)\n"
     ]
    },
    {
     "name": "stdout",
     "output_type": "stream",
     "text": [
      "(5, 43)\n",
      "(5, 32, 32, 1)\n"
     ]
    },
    {
     "data": {
      "image/png": "[encoded data removed]",
      "text/plain": [
       "<matplotlib.figure.Figure at 0x7f0c64552e80>"
      ]
     },
     "metadata": {
      "needs_background": "light"
     },
     "output_type": "display_data"
    }
   ],
   "source": [
    "with open(label_json, \"r\") as fp:\n",
    "    label_dict = json.loads(fp.read())\n",
    "    \n",
    "print (label_dict)\n",
    "# load images\n",
    "images = []\n",
    "label = []\n",
    "ele_per_row = 4\n",
    "\n",
    "total_images = len(label_dict)\n",
    "print (total_images)\n",
    "\n",
    "fig, ax = plt.subplots(math.ceil(total_images / ele_per_row), ele_per_row)\n",
    "fig.tight_layout()\n",
    "index = 0\n",
    "for image_name in os.listdir(test_dir):\n",
    "    if image_name.endswith(\".png\") or image_name.endswith(\".jpg\"):\n",
    "        real_path = os.path.join(test_dir, image_name)\n",
    "        image = plt.imread(real_path, 0)\n",
    "        \n",
    "        images.append(cv2.resize(image, (32, 32), interpolation=cv2.INTER_AREA))\n",
    "        \n",
    "        ax[index // ele_per_row, index % ele_per_row].imshow(images[-1])\n",
    "        ax[index // ele_per_row, index % ele_per_row].set_title(image_name)\n",
    "        label.append(label_dict[image_name])\n",
    "        index += 1\n",
    "\n",
    "images = np.array(images)\n",
    "fig.savefig(\"output/extra-traffic-sign.png\")\n",
    "\n",
    "extra_images_normalized = normalization(unite_format(images), standard_normalizer)\n",
    "label_normalized = lb.transform(label)\n",
    "print (label_normalized.shape)\n",
    "print (extra_images_normalized.shape)\n",
    "# plt.imshow(images[3])"
   ]
  },
  {
   "cell_type": "markdown",
   "metadata": {},
   "source": [
    "### Predict the Sign Type for Each Image"
   ]
  },
  {
   "cell_type": "code",
   "execution_count": 33,
   "metadata": {},
   "outputs": [
    {
     "name": "stdout",
     "output_type": "stream",
     "text": [
      "[31 14 13 26 41]\n",
      "[25 14 13 26  9]\n"
     ]
    }
   ],
   "source": [
    "### Run the predictions here and use the model to output the prediction for each image.\n",
    "### Make sure to pre-process the images data:image/png;base64,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with the same pre-processing pipeline used earlier.\n",
    "### Feel free to use as many code cells as needed.\n",
    "import sklearn.metrics\n",
    "y_pred = model.predict(extra_images_normalized)\n",
    "print (np.argmax(y_pred, axis=1))\n",
    "print (np.argmax(label_normalized, axis=1))"
   ]
  },
  {
   "cell_type": "markdown",
   "metadata": {},
   "source": [
    "### Analyze Performance"
   ]
  },
  {
   "cell_type": "code",
   "execution_count": 34,
   "metadata": {},
   "outputs": [
    {
     "name": "stdout",
     "output_type": "stream",
     "text": [
      "             precision    recall  f1-score   support\n",
      "\n",
      "          9       0.00      0.00      0.00         1\n",
      "         13       1.00      1.00      1.00         1\n",
      "         14       1.00      1.00      1.00         1\n",
      "         25       0.00      0.00      0.00         1\n",
      "         26       1.00      1.00      1.00         1\n",
      "         31       0.00      0.00      0.00         0\n",
      "         41       0.00      0.00      0.00         0\n",
      "\n",
      "avg / total       0.60      0.60      0.60         5\n",
      "\n"
     ]
    },
    {
     "name": "stderr",
     "output_type": "stream",
     "text": [
      "/opt/conda/lib/python3.6/site-packages/sklearn/metrics/classification.py:1135: UndefinedMetricWarning: Precision and F-score are ill-defined and being set to 0.0 in labels with no predicted samples.\n",
      "  'precision', 'predicted', average, warn_for)\n",
      "/opt/conda/lib/python3.6/site-packages/sklearn/metrics/classification.py:1137: UndefinedMetricWarning: Recall and F-score are ill-defined and being set to 0.0 in labels with no true samples.\n",
      "  'recall', 'true', average, warn_for)\n"
     ]
    }
   ],
   "source": [
    "print (sklearn.metrics.classification_report(np.argmax(label_normalized, axis=1), np.argmax(y_pred, axis=1)))"
   ]
  },
  {
   "cell_type": "markdown",
   "metadata": {},
   "source": []
  },
  {
   "cell_type": "code",
   "execution_count": null,
   "metadata": {},
   "outputs": [],
   "source": []
  },
  {
   "cell_type": "markdown",
   "metadata": {},
   "source": [
    "### Output Top 5 Softmax Probabilities For Each Image Found on the Web"
   ]
  },
  {
   "cell_type": "markdown",
   "metadata": {},
   "source": [
    "For each of the new images, print out the model's softmax probabilities to show the **certainty** of the model's predictions (limit the output to the top 5 probabilities for each image). [`tf.nn.top_k`](https://www.tensorflow.org/versions/r0.12/api_docs/python/nn.html#top_k) could prove helpful here. \n",
    "\n",
    "The example below demonstrates how tf.nn.top_k can be used to find the top k predictions for each image.\n",
    "\n",
    "`tf.nn.top_k` will return the values and indices (class ids) of the top k predictions. So if k=3, for each sign, it'll return the 3 largest probabilities (out of a possible 43) and the correspoding class ids.\n",
    "\n",
    "Take this numpy array as an example. The values in the array represent predictions. The array contains softmax probabilities for five candidate images with six possible classes. `tf.nn.top_k` is used to choose the three classes with the highest probability:\n",
    "\n",
    "```\n",
    "# (5, 6) array\n",
    "a = np.array([[ 0.24879643,  0.07032244,  0.12641572,  0.34763842,  0.07893497,\n",
    "         0.12789202],\n",
    "       [ 0.28086119,  0.27569815,  0.08594638,  0.0178669 ,  0.18063401,\n",
    "         0.15899337],\n",
    "       [ 0.26076848,  0.23664738,  0.08020603,  0.07001922,  0.1134371 ,\n",
    "         0.23892179],\n",
    "       [ 0.11943333,  0.29198961,  0.02605103,  0.26234032,  0.1351348 ,\n",
    "         0.16505091],\n",
    "       [ 0.09561176,  0.34396535,  0.0643941 ,  0.16240774,  0.24206137,\n",
    "         0.09155967]])\n",
    "```\n",
    "\n",
    "Running it through `sess.run(tf.nn.top_k(tf.constant(a), k=3))` produces:\n",
    "\n",
    "```\n",
    "TopKV2(values=array([[ 0.34763842,  0.24879643,  0.12789202],\n",
    "       [ 0.28086119,  0.27569815,  0.18063401],\n",
    "       [ 0.26076848,  0.23892179,  0.23664738],\n",
    "       [ 0.29198961,  0.26234032,  0.16505091],\n",
    "       [ 0.34396535,  0.24206137,  0.16240774]]), indices=array([[3, 0, 5],\n",
    "       [0, 1, 4],\n",
    "       [0, 5, 1],\n",
    "       [1, 3, 5],\n",
    "       [1, 4, 3]], dtype=int32))\n",
    "```\n",
    "\n",
    "Looking just at the first row we get `[ 0.34763842,  0.24879643,  0.12789202]`, you can confirm these are the 3 largest probabilities in `a`. You'll also notice `[3, 0, 5]` are the corresponding indices."
   ]
  },
  {
   "cell_type": "code",
   "execution_count": 35,
   "metadata": {},
   "outputs": [
    {
     "data": {
      "text/plain": [
       "TopKV2(values=array([[  6.08937919e-01,   3.12172174e-01,   6.27606288e-02,\n",
       "          5.77264139e-03,   4.85930871e-03],\n",
       "       [  9.87640917e-01,   3.95259634e-03,   3.36800097e-03,\n",
       "          2.89965724e-03,   1.99724128e-03],\n",
       "       [  9.85055327e-01,   6.90696901e-03,   4.35997732e-03,\n",
       "          1.93929125e-03,   1.28792226e-03],\n",
       "       [  5.22611439e-01,   4.77388561e-01,   2.22490759e-09,\n",
       "          2.21117402e-10,   9.09349124e-11],\n",
       "       [  7.14947224e-01,   2.85051048e-01,   8.89865305e-07,\n",
       "          8.11639097e-07,   9.23996435e-10]], dtype=float32), indices=array([[31, 25, 39,  5, 10],\n",
       "       [14, 12, 38,  2,  1],\n",
       "       [13,  2, 12,  5, 15],\n",
       "       [26, 18, 24, 27, 11],\n",
       "       [41,  9, 20, 40, 23]], dtype=int32))"
      ]
     },
     "execution_count": 35,
     "metadata": {},
     "output_type": "execute_result"
    }
   ],
   "source": [
    "### Print out the top five softmax probabilities for the predictions on the German traffic sign images found on the web. \n",
    "### Feel free to use as many code cells as needed.\n",
    "import tensorflow as tf\n",
    "sess = tf.Session()\n",
    "sess.run(tf.nn.top_k(y_pred, k=5))"
   ]
  },
  {
   "cell_type": "markdown",
   "metadata": {},
   "source": [
    "### Project Writeup\n",
    "\n",
    "Once you have completed the code implementation, document your results in a project writeup using this [template](https://github.com/udacity/CarND-Traffic-Sign-Classifier-Project/blob/master/writeup_template.md) as a guide. The writeup can be in a markdown or pdf file. "
   ]
  },
  {
   "cell_type": "markdown",
   "metadata": {},
   "source": [
    "> **Note**: Once you have completed all of the code implementations and successfully answered each question above, you may finalize your work by exporting the iPython Notebook as an HTML document. You can do this by using the menu above and navigating to  \\n\",\n",
    "    \"**File -> Download as -> HTML (.html)**. Include the finished document along with this notebook as your submission."
   ]
  },
  {
   "cell_type": "markdown",
   "metadata": {},
   "source": [
    "---\n",
    "\n",
    "## Step 4 (Optional): Visualize the Neural Network's State with Test Images\n",
    "\n",
    " This Section is not required to complete but acts as an additional excersise for understaning the output of a neural network's weights. While neural networks can be a great learning device they are often referred to as a black box. We can understand what the weights of a neural network look like better by plotting their feature maps. After successfully training your neural network you can see what it's feature maps look like by plotting the output of the network's weight layers in response to a test stimuli image. From these plotted feature maps, it's possible to see what characteristics of an image the network finds interesting. For a sign, maybe the inner network feature maps react with high activation to the sign's boundary outline or to the contrast in the sign's painted symbol.\n",
    "\n",
    " Provided for you below is the function code that allows you to get the visualization output of any tensorflow weight layer you want. The inputs to the function should be a stimuli image, one used during training or a new one you provided, and then the tensorflow variable name that represents the layer's state during the training process, for instance if you wanted to see what the [LeNet lab's](https://classroom.udacity.com/nanodegrees/nd013/parts/fbf77062-5703-404e-b60c-95b78b2f3f9e/modules/6df7ae49-c61c-4bb2-a23e-6527e69209ec/lessons/601ae704-1035-4287-8b11-e2c2716217ad/concepts/d4aca031-508f-4e0b-b493-e7b706120f81) feature maps looked like for it's second convolutional layer you could enter conv2 as the tf_activation variable.\n",
    "\n",
    "For an example of what feature map outputs look like, check out NVIDIA's results in their paper [End-to-End Deep Learning for Self-Driving Cars](https://devblogs.nvidia.com/parallelforall/deep-learning-self-driving-cars/) in the section Visualization of internal CNN State. NVIDIA was able to show that their network's inner weights had high activations to road boundary lines by comparing feature maps from an image with a clear path to one without. Try experimenting with a similar test to show that your trained network's weights are looking for interesting features, whether it's looking at differences in feature maps from images with or without a sign, or even what feature maps look like in a trained network vs a completely untrained one on the same sign image.\n",
    "\n",
    "<figure>\n",
    " <img src=\"visualize_cnn.png\" width=\"380\" alt=\"Combined Image\" />\n",
    " <figcaption>\n",
    " <p></p> \n",
    " <p style=\"text-align: center;\"> Your output should look something like this (above)</p> \n",
    " </figcaption>\n",
    "</figure>\n",
    " <p></p> \n"
   ]
  },
  {
   "cell_type": "code",
   "execution_count": null,
   "metadata": {},
   "outputs": [],
   "source": [
    "### Visualize your network's feature maps here.\n",
    "### Feel free to use as many code cells as needed.\n",
    "\n",
    "# image_input: the test image being fed into the network to produce the feature maps\n",
    "# tf_activation: should be a tf variable name used during your training procedure that represents the calculated state of a specific weight layer\n",
    "# activation_min/max: can be used to view the activation contrast in more detail, by default matplot sets min and max to the actual min and max values of the output\n",
    "# plt_num: used to plot out multiple different weight feature map sets on the same block, just extend the plt number for each new feature map entry\n",
    "\n",
    "def outputFeatureMap(image_input, tf_activation, activation_min=-1, activation_max=-1 ,plt_num=1):\n",
    "    # Here make sure to preprocess your image_input in a way your network expects\n",
    "    # with size, normalization, ect if needed\n",
    "    # image_input =\n",
    "    # Note: x should be the same name as your network's tensorflow data placeholder variable\n",
    "    # If you get an error tf_activation is not defined it may be having trouble accessing the variable from inside a function\n",
    "    activation = tf_activation.eval(session=sess,feed_dict={x : image_input})\n",
    "    featuremaps = activation.shape[3]\n",
    "    plt.figure(plt_num, figsize=(15,15))\n",
    "    for featuremap in range(featuremaps):\n",
    "        plt.subplot(6,8, featuremap+1) # sets the number of feature maps to show on each row and column\n",
    "        plt.title('FeatureMap ' + str(featuremap)) # displays the feature map number\n",
    "        if activation_min != -1 & activation_max != -1:\n",
    "            plt.imshow(activation[0,:,:, featuremap], interpolation=\"nearest\", vmin =activation_min, vmax=activation_max, cmap=\"gray\")\n",
    "        elif activation_max != -1:\n",
    "            plt.imshow(activation[0,:,:, featuremap], interpolation=\"nearest\", vmax=activation_max, cmap=\"gray\")\n",
    "        elif activation_min !=-1:\n",
    "            plt.imshow(activation[0,:,:, featuremap], interpolation=\"nearest\", vmin=activation_min, cmap=\"gray\")\n",
    "        else:\n",
    "            plt.imshow(activation[0,:,:, featuremap], interpolation=\"nearest\", cmap=\"gray\")"
   ]
  }
 ],
 "metadata": {
  "anaconda-cloud": {},
  "kernelspec": {
   "display_name": "Python 3",
   "language": "python",
   "name": "python3"
  },
  "language_info": {
   "codemirror_mode": {
    "name": "ipython",
    "version": 3
   },
   "file_extension": ".py",
   "mimetype": "text/x-python",
   "name": "python",
   "nbconvert_exporter": "python",
   "pygments_lexer": "ipython3",
   "version": "3.6.3"
  }
 },
 "nbformat": 4,
 "nbformat_minor": 1
}
